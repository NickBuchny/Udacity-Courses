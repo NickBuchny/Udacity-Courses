{
 "cells": [
  {
   "cell_type": "markdown",
   "metadata": {
    "colab_type": "text",
    "id": "kR-4eNdK6lYS"
   },
   "source": [
    "Deep Learning\n",
    "=============\n",
    "\n",
    "Assignment 3\n",
    "------------\n",
    "\n",
    "Previously in `2_fullyconnected.ipynb`, you trained a logistic regression and a neural network model.\n",
    "\n",
    "The goal of this assignment is to explore regularization techniques."
   ]
  },
  {
   "cell_type": "code",
   "execution_count": 1,
   "metadata": {
    "cellView": "both",
    "colab": {
     "autoexec": {
      "startup": false,
      "wait_interval": 0
     }
    },
    "colab_type": "code",
    "collapsed": false,
    "id": "JLpLa8Jt7Vu4"
   },
   "outputs": [
    {
     "data": {
      "text/html": [
       "<style>.container { width:100% !important; }</style>"
      ],
      "text/plain": [
       "<IPython.core.display.HTML object>"
      ]
     },
     "metadata": {},
     "output_type": "display_data"
    }
   ],
   "source": [
    "# These are all the modules we'll be using later. Make sure you can import them\n",
    "# before proceeding further.\n",
    "from __future__ import print_function\n",
    "import numpy as np\n",
    "import tensorflow as tf\n",
    "from six.moves import cPickle as pickle\n",
    "from IPython.core.display import display, HTML\n",
    "display(HTML(\"<style>.container { width:100% !important; }</style>\")) "
   ]
  },
  {
   "cell_type": "markdown",
   "metadata": {
    "colab_type": "text",
    "id": "1HrCK6e17WzV"
   },
   "source": [
    "First reload the data we generated in `1_notmnist.ipynb`."
   ]
  },
  {
   "cell_type": "code",
   "execution_count": 2,
   "metadata": {
    "cellView": "both",
    "colab": {
     "autoexec": {
      "startup": false,
      "wait_interval": 0
     },
     "output_extras": [
      {
       "item_id": 1
      }
     ]
    },
    "colab_type": "code",
    "collapsed": false,
    "executionInfo": {
     "elapsed": 11777,
     "status": "ok",
     "timestamp": 1449849322348,
     "user": {
      "color": "",
      "displayName": "",
      "isAnonymous": false,
      "isMe": true,
      "permissionId": "",
      "photoUrl": "",
      "sessionId": "0",
      "userId": ""
     },
     "user_tz": 480
    },
    "id": "y3-cj1bpmuxc",
    "outputId": "e03576f1-ebbe-4838-c388-f1777bcc9873"
   },
   "outputs": [
    {
     "name": "stdout",
     "output_type": "stream",
     "text": [
      "Training set (200000, 28, 28) (200000,)\n",
      "Validation set (10000, 28, 28) (10000,)\n",
      "Test set (10000, 28, 28) (10000,)\n"
     ]
    }
   ],
   "source": [
    "pickle_file = 'notMNIST.pickle'\n",
    "\n",
    "with open(pickle_file, 'rb') as f:\n",
    "  save = pickle.load(f)\n",
    "  train_dataset = save['train_dataset']\n",
    "  train_labels = save['train_labels']\n",
    "  valid_dataset = save['valid_dataset']\n",
    "  valid_labels = save['valid_labels']\n",
    "  test_dataset = save['test_dataset']\n",
    "  test_labels = save['test_labels']\n",
    "  del save  # hint to help gc free up memory\n",
    "  print('Training set', train_dataset.shape, train_labels.shape)\n",
    "  print('Validation set', valid_dataset.shape, valid_labels.shape)\n",
    "  print('Test set', test_dataset.shape, test_labels.shape)"
   ]
  },
  {
   "cell_type": "markdown",
   "metadata": {
    "colab_type": "text",
    "id": "L7aHrm6nGDMB"
   },
   "source": [
    "Reformat into a shape that's more adapted to the models we're going to train:\n",
    "- data as a flat matrix,\n",
    "- labels as float 1-hot encodings."
   ]
  },
  {
   "cell_type": "code",
   "execution_count": 3,
   "metadata": {
    "cellView": "both",
    "colab": {
     "autoexec": {
      "startup": false,
      "wait_interval": 0
     },
     "output_extras": [
      {
       "item_id": 1
      }
     ]
    },
    "colab_type": "code",
    "collapsed": false,
    "executionInfo": {
     "elapsed": 11728,
     "status": "ok",
     "timestamp": 1449849322356,
     "user": {
      "color": "",
      "displayName": "",
      "isAnonymous": false,
      "isMe": true,
      "permissionId": "",
      "photoUrl": "",
      "sessionId": "0",
      "userId": ""
     },
     "user_tz": 480
    },
    "id": "IRSyYiIIGIzS",
    "outputId": "3f8996ee-3574-4f44-c953-5c8a04636582"
   },
   "outputs": [
    {
     "name": "stdout",
     "output_type": "stream",
     "text": [
      "Training set (200000, 784) (200000, 10)\n",
      "Validation set (10000, 784) (10000, 10)\n",
      "Test set (10000, 784) (10000, 10)\n"
     ]
    }
   ],
   "source": [
    "image_size = 28\n",
    "num_labels = 10\n",
    "\n",
    "def reformat(dataset, labels):\n",
    "  dataset = dataset.reshape((-1, image_size * image_size)).astype(np.float32)\n",
    "  # Map 1 to [0.0, 1.0, 0.0 ...], 2 to [0.0, 0.0, 1.0 ...]\n",
    "  labels = (np.arange(num_labels) == labels[:,None]).astype(np.float32)\n",
    "  return dataset, labels\n",
    "train_dataset, train_labels = reformat(train_dataset, train_labels)\n",
    "valid_dataset, valid_labels = reformat(valid_dataset, valid_labels)\n",
    "test_dataset, test_labels = reformat(test_dataset, test_labels)\n",
    "print('Training set', train_dataset.shape, train_labels.shape)\n",
    "print('Validation set', valid_dataset.shape, valid_labels.shape)\n",
    "print('Test set', test_dataset.shape, test_labels.shape)"
   ]
  },
  {
   "cell_type": "code",
   "execution_count": 4,
   "metadata": {
    "cellView": "both",
    "colab": {
     "autoexec": {
      "startup": false,
      "wait_interval": 0
     }
    },
    "colab_type": "code",
    "collapsed": true,
    "id": "RajPLaL_ZW6w"
   },
   "outputs": [],
   "source": [
    "def accuracy(predictions, labels):\n",
    "  return (100.0 * np.sum(np.argmax(predictions, 1) == np.argmax(labels, 1))\n",
    "          / predictions.shape[0])"
   ]
  },
  {
   "cell_type": "markdown",
   "metadata": {
    "colab_type": "text",
    "id": "sgLbUAQ1CW-1"
   },
   "source": [
    "---\n",
    "Problem 1\n",
    "---------\n",
    "\n",
    "Introduce and tune L2 regularization for both logistic and neural network models. Remember that L2 amounts to adding a penalty on the norm of the weights to the loss. In TensorFlow, you can compute the L2 loss for a tensor `t` using `nn.l2_loss(t)`. The right amount of regularization should improve your validation / test accuracy.\n",
    "\n",
    "---"
   ]
  },
  {
   "cell_type": "code",
   "execution_count": 5,
   "metadata": {
    "collapsed": false
   },
   "outputs": [],
   "source": [
    "train_subset = 10000 \n",
    "\n",
    "graph = tf.Graph()\n",
    "with graph.as_default():\n",
    "    \n",
    "    # put the data in tensor format\n",
    "    tf_train = tf.constant(train_dataset[:train_subset])\n",
    "    tf_train_labels = tf.constant(train_labels[:train_subset])\n",
    "    tf_valid = tf.constant(valid_dataset)\n",
    "    tf_test = tf.constant(test_dataset)\n",
    "    \n",
    "    # set variables \n",
    "    weights = tf.Variable(tf.truncated_normal([image_size*image_size, num_labels], seed=42))\n",
    "    biases = tf.Variable(tf.zeros([num_labels]))\n",
    "    \n",
    "    logits = tf.matmul(tf_train, weights) + biases \n",
    "    \n",
    "    loss = tf.reduce_mean(tf.nn.softmax_cross_entropy_with_logits(labels=tf_train_labels, logits=logits) \n",
    "                         + .009*tf.nn.l2_loss(weights))\n",
    "              \n",
    "    \n",
    "    optimizer = tf.train.GradientDescentOptimizer(0.5).minimize(loss)\n",
    "\n",
    "    train_prediction = tf.nn.softmax(logits)\n",
    "    valid_prediction = tf.nn.softmax(tf.matmul(tf_valid, weights) + biases)\n",
    "    test_prediction = tf.nn.softmax(tf.matmul(tf_test, weights) + biases)"
   ]
  },
  {
   "cell_type": "code",
   "execution_count": 6,
   "metadata": {
    "collapsed": false
   },
   "outputs": [
    {
     "name": "stdout",
     "output_type": "stream",
     "text": [
      "Initialized\n",
      "Loss at step 0: 44.2741584778\n",
      "Training accuracy: 9.61\n",
      "Validation Accuracy: 13.18\n",
      "Loss at step 100: 11.7622814178\n",
      "Training accuracy: 73.1\n",
      "Validation Accuracy: 72.19\n",
      "Loss at step 200: 4.85589981079\n",
      "Training accuracy: 78.13\n",
      "Validation Accuracy: 76.0\n",
      "Loss at step 300: 2.26183199883\n",
      "Training accuracy: 81.67\n",
      "Validation Accuracy: 78.75\n",
      "Loss at step 400: 1.28529012203\n",
      "Training accuracy: 83.37\n",
      "Validation Accuracy: 80.61\n",
      "Loss at step 500: 0.913721859455\n",
      "Training accuracy: 84.21\n",
      "Validation Accuracy: 81.43\n",
      "Loss at step 600: 0.770832359791\n",
      "Training accuracy: 84.35\n",
      "Validation Accuracy: 81.69\n",
      "Loss at step 700: 0.715430915356\n",
      "Training accuracy: 84.41\n",
      "Validation Accuracy: 81.88\n",
      "Loss at step 800: 0.693813085556\n",
      "Training accuracy: 84.45\n",
      "Validation Accuracy: 81.85\n",
      "Test Accuracy: 88.91\n"
     ]
    }
   ],
   "source": [
    "num_steps = 801\n",
    "\n",
    "with tf.Session(graph=graph) as session:\n",
    "    tf.global_variables_initializer().run()\n",
    "    print('Initialized')\n",
    "    for step in range(num_steps):\n",
    "        _, l, predictions = session.run([optimizer, loss, train_prediction])\n",
    "        if (step % 100 ==0):\n",
    "            print('Loss at step {0}: {1}'.format(step, l))\n",
    "            print('Training accuracy: {0}'.format(accuracy(predictions,\n",
    "                                                           train_labels[:train_subset, :])))\n",
    "            print(\"Validation Accuracy: {0}\".format(accuracy(valid_prediction.eval(),\n",
    "                                                               valid_labels)))\n",
    "    print(\"Test Accuracy: {0}\".format(accuracy(test_prediction.eval(), test_labels)))"
   ]
  },
  {
   "cell_type": "markdown",
   "metadata": {},
   "source": [
    "By adding a value of .004*penalty we see that we can increase the score a full point. \n",
    "\n",
    "I'm going to try the same on the ReLu configuration. "
   ]
  },
  {
   "cell_type": "code",
   "execution_count": 7,
   "metadata": {
    "collapsed": false
   },
   "outputs": [],
   "source": [
    "train_subset = 10000 \n",
    "hidden_nodes = 1024\n",
    "batch_size = 128\n",
    "\n",
    "graph = tf.Graph()\n",
    "with graph.as_default():\n",
    "    \n",
    "    # put the data in tensor format\n",
    "    tf_train = tf.placeholder(tf.float32, shape = (batch_size, image_size*image_size))\n",
    "    tf_train_labels = tf.placeholder(tf.float32, shape=(batch_size, num_labels))\n",
    "    tf_valid = tf.constant(valid_dataset)\n",
    "    tf_test = tf.constant(test_dataset)\n",
    "    \n",
    "    # set variables \n",
    "    weights = tf.Variable(tf.truncated_normal([image_size*image_size, hidden_nodes], seed=42))\n",
    "    biases = tf.Variable(tf.zeros([hidden_nodes]))\n",
    "    \n",
    "    weights2 = tf.Variable(tf.truncated_normal([hidden_nodes, num_labels], seed=42))\n",
    "    biases2 = tf.Variable(tf.zeros([num_labels]))\n",
    "    \n",
    "    logits = tf.matmul(tf_train, weights) + biases \n",
    "    \n",
    "    hidden_layer = tf.nn.relu(logits)\n",
    "    \n",
    "    logits2 = tf.matmul(hidden_layer, weights2) + biases2 \n",
    "    \n",
    "    loss = (tf.reduce_mean(tf.nn.softmax_cross_entropy_with_logits(labels=tf_train_labels, logits=logits2)) + .004*tf.nn.l2_loss(weights)\n",
    "           )\n",
    "             \n",
    "    optimizer = tf.train.GradientDescentOptimizer(0.5).minimize(loss)\n",
    "\n",
    "    train_prediction = tf.nn.softmax(logits2)\n",
    "    \n",
    "    # validation prediciton\n",
    "    logits = tf.matmul(tf_valid, weights) + biases\n",
    "    hidden_layer = tf.nn.relu(logits)\n",
    "    logits2 = tf.matmul(hidden_layer, weights2) + biases2\n",
    "    valid_prediction = tf.nn.softmax(logits2)\n",
    "\n",
    "    # Predictions for test data.\n",
    "    logits = tf.matmul(tf_test, weights) + biases\n",
    "    hidden_layer = tf.nn.relu(logits)\n",
    "    logits2 = tf.matmul(hidden_layer, weights2) + biases2\n",
    "\n",
    "    test_prediction = tf.nn.softmax(logits2)"
   ]
  },
  {
   "cell_type": "code",
   "execution_count": 8,
   "metadata": {
    "collapsed": false
   },
   "outputs": [
    {
     "name": "stdout",
     "output_type": "stream",
     "text": [
      "WARNING:tensorflow:From <ipython-input-8-23384a5f6a24>:4: initialize_all_variables (from tensorflow.python.ops.variables) is deprecated and will be removed after 2017-03-02.\n",
      "Instructions for updating:\n",
      "Use `tf.global_variables_initializer` instead.\n",
      "Initialized\n",
      "Minibatch loss at step 0: 1568.608643\n",
      "Minibatch accuracy: 10.2%\n",
      "Validation accuracy: 24.6%\n",
      "Minibatch loss at step 500: 169.189529\n",
      "Minibatch accuracy: 82.0%\n",
      "Validation accuracy: 79.2%\n",
      "Minibatch loss at step 1000: 22.956333\n",
      "Minibatch accuracy: 81.2%\n",
      "Validation accuracy: 84.0%\n",
      "Minibatch loss at step 1500: 3.661397\n",
      "Minibatch accuracy: 82.8%\n",
      "Validation accuracy: 85.1%\n",
      "Minibatch loss at step 2000: 1.048045\n",
      "Minibatch accuracy: 82.8%\n",
      "Validation accuracy: 84.4%\n",
      "Minibatch loss at step 2500: 0.474478\n",
      "Minibatch accuracy: 88.3%\n",
      "Validation accuracy: 85.3%\n",
      "Minibatch loss at step 3000: 0.560342\n",
      "Minibatch accuracy: 85.2%\n",
      "Validation accuracy: 86.0%\n",
      "Test accuracy: 92.4%\n"
     ]
    }
   ],
   "source": [
    "num_steps = 3001\n",
    "\n",
    "with tf.Session(graph=graph) as session:  \n",
    "  tf.initialize_all_variables().run()  \n",
    "  print(\"Initialized\")  \n",
    "  for step in range(num_steps):  \n",
    "    # create offset\n",
    "    offset = (step * batch_size) % (train_labels.shape[0] - batch_size)  \n",
    "    \n",
    "    # Generate a minibatch.  \n",
    "    batch_data = train_dataset[offset:(offset + batch_size), :]  \n",
    "    batch_labels = train_labels[offset:(offset + batch_size), :]\n",
    "    \n",
    "    # below we do stochasic training by feeding randomized batches of the data over each epoch,\n",
    "    # mapping them to the placeholder tf_train_dataset  \n",
    "    feed_dict = {tf_train : batch_data, tf_train_labels : batch_labels}  \n",
    "    _, l, predictions = session.run([optimizer, loss, train_prediction], feed_dict=feed_dict)  \n",
    "    \n",
    "    if (step % 500 == 0):  \n",
    "      print(\"Minibatch loss at step %d: %f\" % (step, l))  \n",
    "      print(\"Minibatch accuracy: %.1f%%\" % accuracy(predictions, batch_labels))  \n",
    "      print(\"Validation accuracy: %.1f%%\" % accuracy(  \n",
    "        valid_prediction.eval(), valid_labels))  \n",
    "  print(\"Test accuracy: %.1f%%\" % accuracy(test_prediction.eval(), test_labels))"
   ]
  },
  {
   "cell_type": "markdown",
   "metadata": {
    "colab_type": "text",
    "id": "na8xX2yHZzNF"
   },
   "source": [
    "---\n",
    "Problem 2\n",
    "---------\n",
    "Let's demonstrate an extreme case of overfitting. Restrict your training data to just a few batches. What happens?\n",
    "\n",
    "---"
   ]
  },
  {
   "cell_type": "code",
   "execution_count": 38,
   "metadata": {
    "collapsed": false
   },
   "outputs": [],
   "source": [
    "train_subset = 10000 \n",
    "hidden_nodes = 1024\n",
    "batch_size = 8\n",
    "\n",
    "graph = tf.Graph()\n",
    "with graph.as_default():\n",
    "    \n",
    "    # put the data in tensor format\n",
    "    tf_train = tf.placeholder(tf.float32, shape = (batch_size, image_size*image_size))\n",
    "    tf_train_labels = tf.placeholder(tf.float32, shape=(batch_size, num_labels))\n",
    "    tf_valid = tf.constant(valid_dataset)\n",
    "    tf_test = tf.constant(test_dataset)\n",
    "    \n",
    "    # set variables \n",
    "    weights = tf.Variable(tf.truncated_normal([image_size*image_size, hidden_nodes], seed=42))\n",
    "    biases = tf.Variable(tf.zeros([hidden_nodes]))\n",
    "    \n",
    "    weights2 = tf.Variable(tf.truncated_normal([hidden_nodes, num_labels], seed=42))\n",
    "    biases2 = tf.Variable(tf.zeros([num_labels]))\n",
    "    \n",
    "    logits = tf.matmul(tf_train, weights) + biases \n",
    "    \n",
    "    hidden_layer = tf.nn.relu(logits)\n",
    "    \n",
    "    logits2 = tf.matmul(hidden_layer, weights2) + biases2 \n",
    "    \n",
    "    loss = (tf.reduce_mean(tf.nn.softmax_cross_entropy_with_logits(labels=tf_train_labels, logits=logits2) + .000000004*tf.nn.l2_loss(weights) )\n",
    "           )\n",
    "             \n",
    "    optimizer = tf.train.GradientDescentOptimizer(0.5).minimize(loss)\n",
    "\n",
    "    train_prediction = tf.nn.softmax(logits2)\n",
    "    \n",
    "    # validation prediciton\n",
    "    logits = tf.matmul(tf_valid, weights) + biases\n",
    "    hidden_layer = tf.nn.relu(logits)\n",
    "    logits2 = tf.matmul(hidden_layer, weights2) + biases2\n",
    "    valid_prediction = tf.nn.softmax(logits2)\n",
    "\n",
    "    # Predictions for test data.\n",
    "    logits = tf.matmul(tf_test, weights) + biases\n",
    "    hidden_layer = tf.nn.relu(logits)\n",
    "    logits2 = tf.matmul(hidden_layer, weights2) + biases2\n",
    "\n",
    "    test_prediction = tf.nn.softmax(logits2)"
   ]
  },
  {
   "cell_type": "code",
   "execution_count": 39,
   "metadata": {
    "collapsed": false
   },
   "outputs": [
    {
     "name": "stdout",
     "output_type": "stream",
     "text": [
      "WARNING:tensorflow:From <ipython-input-39-23384a5f6a24>:4: initialize_all_variables (from tensorflow.python.ops.variables) is deprecated and will be removed after 2017-03-02.\n",
      "Instructions for updating:\n",
      "Use `tf.global_variables_initializer` instead.\n",
      "Initialized\n",
      "Minibatch loss at step 0: 285.200806\n",
      "Minibatch accuracy: 0.0%\n",
      "Validation accuracy: 13.4%\n",
      "Minibatch loss at step 500: 13463486464.000000\n",
      "Minibatch accuracy: 25.0%\n",
      "Validation accuracy: 41.0%\n",
      "Minibatch loss at step 1000: 113810551603200.000000\n",
      "Minibatch accuracy: 25.0%\n",
      "Validation accuracy: 38.7%\n",
      "Minibatch loss at step 1500: 311071630707130368.000000\n",
      "Minibatch accuracy: 25.0%\n",
      "Validation accuracy: 41.9%\n",
      "Minibatch loss at step 2000: 5848557434838188032000.000000\n",
      "Minibatch accuracy: 37.5%\n",
      "Validation accuracy: 33.3%\n",
      "Minibatch loss at step 2500: 219520718589209501941891072.000000\n",
      "Minibatch accuracy: 12.5%\n",
      "Validation accuracy: 36.4%\n",
      "Minibatch loss at step 3000: 587406326534099236155805401088.000000\n",
      "Minibatch accuracy: 87.5%\n",
      "Validation accuracy: 42.9%\n",
      "Test accuracy: 47.5%\n"
     ]
    }
   ],
   "source": [
    "num_steps = 3001\n",
    "\n",
    "with tf.Session(graph=graph) as session:  \n",
    "  tf.initialize_all_variables().run()  \n",
    "  print(\"Initialized\")  \n",
    "  for step in range(num_steps):  \n",
    "    # create offset\n",
    "    offset = (step * batch_size) % (train_labels.shape[0] - batch_size)  \n",
    "    \n",
    "    # Generate a minibatch.  \n",
    "    batch_data = train_dataset[offset:(offset + batch_size), :]  \n",
    "    batch_labels = train_labels[offset:(offset + batch_size), :]\n",
    "    \n",
    "    # below we do stochasic training by feeding randomized batches of the data over each epoch,\n",
    "    # mapping them to the placeholder tf_train_dataset  \n",
    "    feed_dict = {tf_train : batch_data, tf_train_labels : batch_labels}  \n",
    "    _, l, predictions = session.run([optimizer, loss, train_prediction], feed_dict=feed_dict)  \n",
    "    \n",
    "    if (step % 500 == 0):  \n",
    "      print(\"Minibatch loss at step %d: %f\" % (step, l))  \n",
    "      print(\"Minibatch accuracy: %.1f%%\" % accuracy(predictions, batch_labels))  \n",
    "      print(\"Validation accuracy: %.1f%%\" % accuracy(  \n",
    "        valid_prediction.eval(), valid_labels))  \n",
    "  print(\"Test accuracy: %.1f%%\" % accuracy(test_prediction.eval(), test_labels))"
   ]
  },
  {
   "cell_type": "markdown",
   "metadata": {},
   "source": [
    "As we can see, using a small amount of mini batches causes extreme overfitting during training and leads to \n",
    "poor test scores. "
   ]
  },
  {
   "cell_type": "markdown",
   "metadata": {
    "colab_type": "text",
    "id": "ww3SCBUdlkRc"
   },
   "source": [
    "---\n",
    "Problem 3\n",
    "---------\n",
    "Introduce Dropout on the hidden layer of the neural network. Remember: Dropout should only be introduced during training, not evaluation, otherwise your evaluation results would be stochastic as well. TensorFlow provides `nn.dropout()` for that, but you have to make sure it's only inserted during training.\n",
    "\n",
    "What happens to our extreme overfitting case?\n",
    "\n",
    "---"
   ]
  },
  {
   "cell_type": "code",
   "execution_count": 53,
   "metadata": {
    "collapsed": false
   },
   "outputs": [],
   "source": [
    "train_subset = 100000 \n",
    "hidden_nodes = 1024\n",
    "batch_size = 15\n",
    "\n",
    "graph = tf.Graph()\n",
    "with graph.as_default():\n",
    "    \n",
    "    # put the data in tensor format\n",
    "    tf_train = tf.placeholder(tf.float32, shape = (batch_size, image_size*image_size))\n",
    "    tf_train_labels = tf.placeholder(tf.float32, shape=(batch_size, num_labels))\n",
    "    tf_valid = tf.constant(valid_dataset)\n",
    "    tf_test = tf.constant(test_dataset)\n",
    "    \n",
    "    # set variables \n",
    "    weights = tf.Variable(tf.truncated_normal([image_size*image_size, hidden_nodes], seed=42))\n",
    "    biases = tf.Variable(tf.zeros([hidden_nodes]))\n",
    "    \n",
    "    weights2 = tf.Variable(tf.truncated_normal([hidden_nodes, num_labels], seed=42))\n",
    "    biases2 = tf.Variable(tf.zeros([num_labels]))\n",
    "    \n",
    "    logits = tf.matmul(tf_train, weights) + biases \n",
    "    \n",
    "    hidden_layer = tf.nn.relu(logits)\n",
    "    \n",
    "    keep_prob = tf.placeholder(tf.float32)\n",
    "    drop_layer = tf.nn.dropout(hidden_layer, keep_prob)\n",
    "    \n",
    "    logits2 = tf.matmul(drop_layer, weights2) + biases2 \n",
    "    \n",
    "    loss = (tf.reduce_mean(tf.nn.softmax_cross_entropy_with_logits(labels=tf_train_labels, logits=logits2) + .000000004*tf.nn.l2_loss(weights) )\n",
    "           )\n",
    "             \n",
    "    optimizer = tf.train.GradientDescentOptimizer(0.5).minimize(loss)\n",
    "\n",
    "    train_prediction = tf.nn.softmax(logits2)\n",
    "    \n",
    "    # validation prediciton\n",
    "    logits = tf.matmul(tf_valid, weights) + biases\n",
    "    hidden_layer = tf.nn.relu(logits)\n",
    "    logits2 = tf.matmul(hidden_layer, weights2) + biases2\n",
    "    valid_prediction = tf.nn.softmax(logits2)\n",
    "\n",
    "    # Predictions for test data.\n",
    "    logits = tf.matmul(tf_test, weights) + biases\n",
    "    hidden_layer = tf.nn.relu(logits)\n",
    "    logits2 = tf.matmul(hidden_layer, weights2) + biases2\n",
    "\n",
    "    test_prediction = tf.nn.softmax(logits2)"
   ]
  },
  {
   "cell_type": "code",
   "execution_count": 57,
   "metadata": {
    "collapsed": false
   },
   "outputs": [
    {
     "name": "stdout",
     "output_type": "stream",
     "text": [
      "WARNING:tensorflow:From <ipython-input-57-3018f12584ed>:4: initialize_all_variables (from tensorflow.python.ops.variables) is deprecated and will be removed after 2017-03-02.\n",
      "Instructions for updating:\n",
      "Use `tf.global_variables_initializer` instead.\n",
      "Initialized\n",
      "Minibatch loss at step 0: 417.025635\n",
      "Minibatch accuracy: 6.7%\n",
      "Validation accuracy: 11.2%\n",
      "Minibatch loss at step 500: 80897.656250\n",
      "Minibatch accuracy: 53.3%\n",
      "Validation accuracy: 54.5%\n",
      "Minibatch loss at step 1000: 416017.812500\n",
      "Minibatch accuracy: 60.0%\n",
      "Validation accuracy: 52.0%\n",
      "Minibatch loss at step 1500: 4424503.000000\n",
      "Minibatch accuracy: 73.3%\n",
      "Validation accuracy: 58.3%\n",
      "Minibatch loss at step 2000: 9065554.000000\n",
      "Minibatch accuracy: 46.7%\n",
      "Validation accuracy: 56.7%\n",
      "Minibatch loss at step 2500: 3777035.750000\n",
      "Minibatch accuracy: 60.0%\n",
      "Validation accuracy: 60.5%\n",
      "Minibatch loss at step 3000: 900589952.000000\n",
      "Minibatch accuracy: 46.7%\n",
      "Validation accuracy: 55.8%\n",
      "Test accuracy: 61.2%\n"
     ]
    }
   ],
   "source": [
    "num_steps = 3001\n",
    "\n",
    "with tf.Session(graph=graph) as session:  \n",
    "  tf.initialize_all_variables().run()  \n",
    "  print(\"Initialized\")  \n",
    "  for step in range(num_steps):  \n",
    "    # create offset\n",
    "    offset = (step * batch_size) % (train_labels.shape[0] - batch_size)  \n",
    "    \n",
    "    # Generate a minibatch.  \n",
    "    batch_data = train_dataset[offset:(offset + batch_size), :]  \n",
    "    batch_labels = train_labels[offset:(offset + batch_size), :]\n",
    "    \n",
    "    # below we do stochasic training by feeding randomized batches of the data over each epoch,\n",
    "    # mapping them to the placeholder tf_train_dataset  \n",
    "    feed_dict = {tf_train : batch_data, tf_train_labels : batch_labels, keep_prob:.8}  \n",
    "    _, l, predictions = session.run([optimizer, loss, train_prediction], feed_dict=feed_dict)  \n",
    "    \n",
    "    if (step % 500 == 0):  \n",
    "      print(\"Minibatch loss at step %d: %f\" % (step, l))  \n",
    "      print(\"Minibatch accuracy: %.1f%%\" % accuracy(predictions, batch_labels))  \n",
    "      print(\"Validation accuracy: %.1f%%\" % accuracy(  \n",
    "        valid_prediction.eval(), valid_labels))  \n",
    "  print(\"Test accuracy: %.1f%%\" % accuracy(test_prediction.eval(), test_labels))"
   ]
  },
  {
   "cell_type": "markdown",
   "metadata": {},
   "source": [
    "As we cam see, if we have the probability of keeping each node at .80 it prevents the model from overfitting on the mini batches. "
   ]
  },
  {
   "cell_type": "markdown",
   "metadata": {
    "colab_type": "text",
    "id": "-b1hTz3VWZjw"
   },
   "source": [
    "---\n",
    "Problem 4\n",
    "---------\n",
    "\n",
    "Try to get the best performance you can using a multi-layer model! The best reported test accuracy using a deep network is [97.1%](http://yaroslavvb.blogspot.com/2011/09/notmnist-dataset.html?showComment=1391023266211#c8758720086795711595).\n",
    "\n",
    "One avenue you can explore is to add multiple layers.\n",
    "\n",
    "Another one is to use learning rate decay:\n",
    "\n",
    "    global_step = tf.Variable(0)  # count the number of steps taken.\n",
    "    learning_rate = tf.train.exponential_decay(0.5, global_step, ...)\n",
    "    optimizer = tf.train.GradientDescentOptimizer(learning_rate).minimize(loss, global_step=global_step)\n",
    " \n",
    " ---\n"
   ]
  },
  {
   "cell_type": "code",
   "execution_count": null,
   "metadata": {
    "collapsed": true
   },
   "outputs": [],
   "source": [
    "# to do: \n",
    "\n",
    "# return and create complex model "
   ]
  }
 ],
 "metadata": {
  "anaconda-cloud": {},
  "colab": {
   "default_view": {},
   "name": "3_regularization.ipynb",
   "provenance": [],
   "version": "0.3.2",
   "views": {}
  },
  "kernelspec": {
   "display_name": "Python [conda env:tensorflow]",
   "language": "python",
   "name": "conda-env-tensorflow-py"
  },
  "language_info": {
   "codemirror_mode": {
    "name": "ipython",
    "version": 2
   },
   "file_extension": ".py",
   "mimetype": "text/x-python",
   "name": "python",
   "nbconvert_exporter": "python",
   "pygments_lexer": "ipython2",
   "version": "2.7.12"
  }
 },
 "nbformat": 4,
 "nbformat_minor": 0
}
